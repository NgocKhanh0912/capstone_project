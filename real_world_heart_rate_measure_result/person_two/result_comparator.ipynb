{
 "cells": [
  {
   "cell_type": "code",
   "execution_count": null,
   "metadata": {
    "vscode": {
     "languageId": "plaintext"
    }
   },
   "outputs": [],
   "source": [
    "import pandas as pd\n",
    "import matplotlib.pyplot as plt"
   ]
  },
  {
   "cell_type": "code",
   "execution_count": null,
   "metadata": {
    "vscode": {
     "languageId": "plaintext"
    }
   },
   "outputs": [],
   "source": [
    "original_device_heart_rate_path = 'result_from_original_device.csv'\n",
    "reference_device_heart_rate_path = 'result_from_reference_device.csv'\n",
    "\n",
    "original_device_heart_rate = pd.read_csv(original_device_heart_rate_path, header = None)\n",
    "reference_device_heart_rate = pd.read_csv(reference_device_heart_rate_path, header = None)\n",
    "\n",
    "original_device_heart_rate_column = original_device_heart_rate.iloc[:, 0].values\n",
    "reference_device_heart_rate_column = reference_device_heart_rate.iloc[:, 0].values\n",
    "\n",
    "if len(original_device_heart_rate_column) != len(reference_device_heart_rate_column):\n",
    "    raise ValueError(\"The two arrays do not have the same length!\")"
   ]
  },
  {
   "cell_type": "code",
   "execution_count": null,
   "metadata": {
    "vscode": {
     "languageId": "plaintext"
    }
   },
   "outputs": [],
   "source": [
    "plt.figure(figsize = (12, 6))\n",
    "plt.plot(original_device_heart_rate_column, label = 'Original device heart rate (bpm)', color = 'blue')\n",
    "plt.plot(reference_device_heart_rate_column, label = 'Reference device heart rate (bpm)', color = 'orange')\n",
    "plt.title('Heart Rate Record Graph')\n",
    "plt.xlabel('Recording Session')\n",
    "plt.ylabel('Heart Rate (bpm)')\n",
    "plt.legend()\n",
    "plt.grid()\n",
    "plt.show()"
   ]
  },
  {
   "cell_type": "code",
   "execution_count": null,
   "metadata": {
    "vscode": {
     "languageId": "plaintext"
    }
   },
   "outputs": [],
   "source": [
    "absolute_error = abs(original_device_heart_rate_column - reference_device_heart_rate_column)\n",
    "mean_absolute_error = absolute_error.mean()\n",
    "print(mean_absolute_error)\n",
    "\n",
    "percent_error = (absolute_error / original_device_heart_rate_column) * 100\n",
    "mean_percent_error = percent_error.mean()\n",
    "\n",
    "plt.figure(figsize = (12, 6))\n",
    "plt.plot(percent_error, label = 'Error (%)', color = 'red')\n",
    "plt.axhline(y = mean_percent_error, color = 'blue', linestyle='--', label = f'Mean Percent Error: {mean_percent_error:.2f} %')\n",
    "plt.title('Percent Error between Original device heart rate and Reference device heart rate')\n",
    "plt.xlabel('Recording Session')\n",
    "plt.ylabel('Error (%)')\n",
    "plt.legend()\n",
    "plt.grid()\n",
    "plt.show()"
   ]
  }
 ],
 "metadata": {
  "language_info": {
   "name": "python"
  }
 },
 "nbformat": 4,
 "nbformat_minor": 2
}
