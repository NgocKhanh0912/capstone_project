{
 "cells": [
  {
   "cell_type": "code",
   "execution_count": null,
   "metadata": {
    "vscode": {
     "languageId": "plaintext"
    }
   },
   "outputs": [],
   "source": [
    "import pandas as pd\n",
    "import numpy as np\n",
    "import matplotlib.pyplot as plt"
   ]
  },
  {
   "cell_type": "code",
   "execution_count": null,
   "metadata": {
    "vscode": {
     "languageId": "plaintext"
    }
   },
   "outputs": [],
   "source": [
    "original_device_heart_rate_path = 'result_from_original_device.csv'\n",
    "reference_device_heart_rate_path = 'result_from_reference_device.csv'\n",
    "\n",
    "original_device_heart_rate = pd.read_csv(original_device_heart_rate_path, header = None)\n",
    "reference_device_heart_rate = pd.read_csv(reference_device_heart_rate_path, header = None)\n",
    "\n",
    "original_device_heart_rate_column = original_device_heart_rate.iloc[:, 0].values\n",
    "reference_device_heart_rate_column = reference_device_heart_rate.iloc[:, 0].values\n",
    "\n",
    "if len(original_device_heart_rate_column) != len(reference_device_heart_rate_column):\n",
    "    raise ValueError(\"The two arrays do not have the same length!\")"
   ]
  },
  {
   "cell_type": "code",
   "execution_count": null,
   "metadata": {
    "vscode": {
     "languageId": "plaintext"
    }
   },
   "outputs": [],
   "source": [
    "plt.figure(figsize = (20, 6))\n",
    "plt.plot(original_device_heart_rate_column, label = 'Original device heart rate (bpm)', color = 'blue')\n",
    "plt.plot(reference_device_heart_rate_column, label = 'Reference device heart rate (bpm)', color = 'orange')\n",
    "plt.title('Heart Rate Record Graph')\n",
    "plt.xlabel('Recording Session')\n",
    "plt.ylabel('Heart Rate (bpm)')\n",
    "plt.legend()\n",
    "plt.grid()\n",
    "\n",
    "num_sessions = len(original_device_heart_rate_column)\n",
    "plt.xticks(ticks = np.arange(num_sessions), labels = np.arange(1, num_sessions + 1))\n",
    "\n",
    "y_ticks = np.arange(min(min(original_device_heart_rate_column), min(reference_device_heart_rate_column)),\n",
    "                     max(max(original_device_heart_rate_column), max(reference_device_heart_rate_column)) + 1, 1)\n",
    "plt.yticks(y_ticks)\n",
    "\n",
    "plt.show()"
   ]
  },
  {
   "cell_type": "code",
   "execution_count": null,
   "metadata": {
    "vscode": {
     "languageId": "plaintext"
    }
   },
   "outputs": [],
   "source": [
    "absolute_error = abs(original_device_heart_rate_column - reference_device_heart_rate_column)\n",
    "mean_absolute_error = absolute_error.mean()\n",
    "print(mean_absolute_error)\n",
    "\n",
    "percent_error = (absolute_error / reference_device_heart_rate_column) * 100\n",
    "print(percent_error)\n",
    "mean_percent_error = percent_error.mean()\n",
    "max_percent_error = percent_error.max()\n",
    "min_percent_error = percent_error.min()\n",
    "\n",
    "plt.figure(figsize = (20, 6))\n",
    "plt.plot(percent_error, label = 'Error (%)', color = 'red')\n",
    "plt.axhline(y = mean_percent_error, color = 'blue', linestyle='--', label = f'Mean Percent Error: {mean_percent_error:.2f} %')\n",
    "plt.axhline(y = max_percent_error, color = 'green', linestyle='--', label = f'Max Percent Error: {max_percent_error:.2f} %')\n",
    "plt.axhline(y = min_percent_error, color = 'orange', linestyle='--', label = f'Min Percent Error: {min_percent_error:.2f} %')\n",
    "plt.title('Percent Error between Original device heart rate and Reference device heart rate')\n",
    "plt.xlabel('Recording Session')\n",
    "plt.ylabel('Error (%)')\n",
    "plt.legend()\n",
    "plt.grid()\n",
    "\n",
    "num_sessions = len(original_device_heart_rate_column)\n",
    "plt.xticks(ticks = np.arange(num_sessions), labels = np.arange(1, num_sessions + 1))\n",
    "\n",
    "plt.show()"
   ]
  }
 ],
 "metadata": {
  "language_info": {
   "name": "python"
  }
 },
 "nbformat": 4,
 "nbformat_minor": 2
}
