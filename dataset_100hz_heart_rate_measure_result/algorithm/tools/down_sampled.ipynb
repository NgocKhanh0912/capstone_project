{
 "cells": [
  {
   "cell_type": "code",
   "execution_count": 3,
   "metadata": {},
   "outputs": [],
   "source": [
    "import numpy as np\n",
    "import pandas as pd\n",
    "from scipy.signal import resample\n",
    "\n",
    "def downsample_signal(signal, original_fs, target_fs):\n",
    "    ratio = target_fs / original_fs\n",
    "    new_length = int(len(signal) * ratio)\n",
    "    downsampled_signal = resample(signal, new_length)\n",
    "    return downsampled_signal"
   ]
  },
  {
   "cell_type": "code",
   "execution_count": 4,
   "metadata": {},
   "outputs": [],
   "source": [
    "ppg_data = pd.read_csv('../real_world_data/data/raw_ppg_data_1000hz.csv', header = None)\n",
    "\n",
    "signal = ppg_data[0].values\n",
    "\n",
    "original_fs = 1000  # Hz\n",
    "target_fs = 100    # Hz\n",
    "\n",
    "downsampled_signal = downsample_signal(signal, original_fs, target_fs)\n",
    "\n",
    "downsampled_df = pd.DataFrame(downsampled_signal)\n",
    "downsampled_df.to_csv('../real_world_data/data/raw_ppg_data_100hz.csv', header = False, index = False)"
   ]
  }
 ],
 "metadata": {
  "kernelspec": {
   "display_name": "Python 3",
   "language": "python",
   "name": "python3"
  },
  "language_info": {
   "codemirror_mode": {
    "name": "ipython",
    "version": 3
   },
   "file_extension": ".py",
   "mimetype": "text/x-python",
   "name": "python",
   "nbconvert_exporter": "python",
   "pygments_lexer": "ipython3",
   "version": "3.12.2"
  }
 },
 "nbformat": 4,
 "nbformat_minor": 2
}
