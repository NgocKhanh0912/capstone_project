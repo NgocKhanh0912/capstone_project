{
 "cells": [
  {
   "cell_type": "code",
   "execution_count": null,
   "metadata": {
    "vscode": {
     "languageId": "plaintext"
    }
   },
   "outputs": [],
   "source": [
    "import numpy as np\n",
    "import pandas as pd\n",
    "from scipy.signal import resample\n",
    "\n",
    "def downsample_signal(signal, original_fs, target_fs):\n",
    "    ratio = target_fs / original_fs\n",
    "    new_length = int(len(signal) * ratio)\n",
    "    downsampled_signal = resample(signal, new_length)\n",
    "    return downsampled_signal"
   ]
  },
  {
   "cell_type": "code",
   "execution_count": null,
   "metadata": {
    "vscode": {
     "languageId": "plaintext"
    }
   },
   "outputs": [],
   "source": [
    "ppg_data = pd.read_csv('real_world_dataset/golden_data/raw_ppg_data_1000hz.csv', header=None)\n",
    "\n",
    "signal = ppg_data[0].values\n",
    "\n",
    "original_fs = 1000  # Hz\n",
    "target_fs = 100    # Hz\n",
    "\n",
    "downsampled_signal = downsample_signal(signal, original_fs, target_fs)\n",
    "\n",
    "downsampled_df = pd.DataFrame(downsampled_signal)\n",
    "downsampled_df.to_csv('real_world_dataset/golden_data/raw_ppg_data_100hz.csv', header=False, index=False)"
   ]
  }
 ],
 "metadata": {
  "language_info": {
   "name": "python"
  }
 },
 "nbformat": 4,
 "nbformat_minor": 2
}
