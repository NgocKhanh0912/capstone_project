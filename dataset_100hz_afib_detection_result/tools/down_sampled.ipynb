{
 "cells": [
  {
   "cell_type": "code",
   "execution_count": null,
   "metadata": {
    "vscode": {
     "languageId": "plaintext"
    }
   },
   "outputs": [],
   "source": [
    "import numpy as np\n",
    "import pandas as pd\n",
    "from scipy.signal import resample\n",
    "import os\n",
    "\n",
    "def downsample_signal(signal, original_fs, target_fs):\n",
    "    ratio = target_fs / original_fs\n",
    "    new_length = int(len(signal) * ratio)\n",
    "    downsampled_signal = resample(signal, new_length)\n",
    "    return downsampled_signal"
   ]
  },
  {
   "cell_type": "code",
   "execution_count": null,
   "metadata": {
    "vscode": {
     "languageId": "plaintext"
    }
   },
   "outputs": [],
   "source": [
    "subject_ids = ['p000608', 'p000776', 'p000946', 'p004490', 'p004829',\n",
    "               'p009526', 'p010391', 'p013072', 'p013136', 'p014079',\n",
    "               'p015852', 'p016684', 'p017344', 'p019608', 'p022954',\n",
    "               'p023824', 'p025117', 'p026377', 'p026964', 'p029512',\n",
    "               'p043613', 'p050089', 'p050384', 'p055204', 'p058932',\n",
    "               'p062160', 'p063039', 'p063628', 'p068956', 'p069339',\n",
    "               'p075371', 'p075796', 'p077729', 'p079998', 'p081349',\n",
    "               'p085866', 'p087275', 'p087675', 'p089565', 'p089964',\n",
    "               'p092289', 'p092846', 'p094847', 'p097547', 'p099674']\n",
    "\n",
    "base_input_dir = 'I:/mimic_dataset/csv_dataset_125hz'\n",
    "base_output_dir = 'I:/mimic_dataset/csv_dataset_100hz'\n",
    "\n",
    "os.makedirs(base_output_dir, exist_ok = True)\n",
    "\n",
    "for subject_id in subject_ids:\n",
    "    subject_input_dir = os.path.join(base_input_dir, subject_id)\n",
    "    subject_output_dir = os.path.join(base_output_dir, subject_id)\n",
    "\n",
    "    os.makedirs(subject_output_dir, exist_ok = True)\n",
    "\n",
    "    for file_name in os.listdir(subject_input_dir):\n",
    "        if file_name.endswith('.csv'):\n",
    "            input_file_path = os.path.join(subject_input_dir, file_name)\n",
    "            output_file_path = os.path.join(subject_output_dir, file_name)\n",
    "\n",
    "            afib_ppg_data = pd.read_csv(input_file_path, header = None)\n",
    "            signal = afib_ppg_data[0].values  \n",
    "\n",
    "            original_fs = 125  # Hz\n",
    "            target_fs = 100    # Hz\n",
    "\n",
    "            downsampled_signal = downsample_signal(signal, original_fs, target_fs)\n",
    "\n",
    "            downsampled_df = pd.DataFrame(downsampled_signal)\n",
    "            downsampled_df.to_csv(output_file_path, header = False, index = False)\n",
    "\n",
    "            print(f\"Resampled {input_file_path} and saved at {output_file_path}\")"
   ]
  }
 ],
 "metadata": {
  "language_info": {
   "name": "python"
  }
 },
 "nbformat": 4,
 "nbformat_minor": 2
}
