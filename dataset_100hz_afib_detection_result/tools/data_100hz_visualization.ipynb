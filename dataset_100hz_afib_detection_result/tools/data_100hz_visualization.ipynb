{
 "cells": [
  {
   "cell_type": "code",
   "execution_count": null,
   "metadata": {
    "vscode": {
     "languageId": "plaintext"
    }
   },
   "outputs": [],
   "source": [
    "import pandas as pd\n",
    "pd.plotting.register_matplotlib_converters()\n",
    "import matplotlib.pyplot as plt\n",
    "%matplotlib inline\n",
    "import seaborn as sns\n",
    "print(\"Setup Complete\")"
   ]
  },
  {
   "cell_type": "code",
   "execution_count": null,
   "metadata": {
    "vscode": {
     "languageId": "plaintext"
    }
   },
   "outputs": [],
   "source": [
    "ppg_filepath = \"I:/mimic_dataset/csv_dataset_125hz/p000946/p000946-2120-05-14-08-08.csv\"\n",
    "\n",
    "start_row = 1405000\n",
    "end_row = 1406000\n",
    "\n",
    "ppg_data = pd.read_csv(ppg_filepath, skiprows = range(1, start_row), nrows = end_row - start_row)"
   ]
  },
  {
   "cell_type": "code",
   "execution_count": null,
   "metadata": {
    "vscode": {
     "languageId": "plaintext"
    }
   },
   "outputs": [],
   "source": [
    "plt.figure(figsize = (200,6))\n",
    "sns.lineplot(data = ppg_data)"
   ]
  }
 ],
 "metadata": {
  "language_info": {
   "name": "python"
  }
 },
 "nbformat": 4,
 "nbformat_minor": 2
}
