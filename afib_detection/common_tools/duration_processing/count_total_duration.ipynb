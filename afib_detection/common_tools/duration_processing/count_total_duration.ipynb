{
 "cells": [
  {
   "cell_type": "code",
   "execution_count": 1,
   "metadata": {},
   "outputs": [],
   "source": [
    "import os\n",
    "import pandas as pd"
   ]
  },
  {
   "cell_type": "code",
   "execution_count": 2,
   "metadata": {},
   "outputs": [
    {
     "name": "stdout",
     "output_type": "stream",
     "text": [
      "Processed: p000946-2120-05-14-08-08.csv, Total data lines: 2243400\n",
      "Processed: p004829-2103-08-30-21-52.csv, Total data lines: 7198100\n",
      "Processed: p013072-2194-01-22-16-13.csv, Total data lines: 15504700\n",
      "Processed: p015852-2148-05-03-18-39.csv, Total data lines: 23691900\n",
      "Processed: p016684-2188-01-29-00-06.csv, Total data lines: 13537800\n",
      "Processed: p019608-2125-02-05-04-57.csv, Total data lines: 11607500\n",
      "Processed: p022954-2136-02-29-17-52.csv, Total data lines: 8246100\n",
      "Processed: p023824-2182-11-27-14-22.csv, Total data lines: 6040600\n",
      "Processed: p025117-2202-03-15-20-28.csv, Total data lines: 13141100\n",
      "Processed: p026377-2111-11-17-16-46.csv, Total data lines: 15017700\n",
      "Processed: p026964-2147-01-11-18-03.csv, Total data lines: 15968800\n",
      "Processed: p029512-2188-02-27-18-10.csv, Total data lines: 6957200\n",
      "Processed: p043613-2185-01-18-23-52.csv, Total data lines: 10917900\n",
      "Processed: p050089-2157-08-23-16-37.csv, Total data lines: 15805900\n",
      "Processed: p050384-2195-01-30-02-21.csv, Total data lines: 4368600\n",
      "Processed: p050384-2195-01-30-16-17.csv, Total data lines: 9171300\n",
      "Processed: p055204-2132-06-30-09-34.csv, Total data lines: 12314400\n",
      "Processed: p055204-2132-07-02-00-25.csv, Total data lines: 11500\n",
      "Processed: p058932-2120-10-13-23-15.csv, Total data lines: 13885400\n",
      "Processed: p062160-2153-10-03-05-39.csv, Total data lines: 19100\n",
      "Processed: p062160-2153-10-03-14-49.csv, Total data lines: 6006700\n",
      "Processed: p063039-2157-03-29-13-35.csv, Total data lines: 10784300\n",
      "Processed: p063628-2176-07-02-20-38.csv, Total data lines: 12824900\n",
      "Processed: p063628-2176-07-04-11-30.csv, Total data lines: 9969500\n",
      "Processed: p063628-2176-07-05-17-12.csv, Total data lines: 1195400\n",
      "Processed: p068956-2107-04-21-16-05.csv, Total data lines: 8387900\n",
      "Processed: p069339-2133-12-09-21-14.csv, Total data lines: 8399400\n",
      "Processed: p075371-2119-08-22-00-53.csv, Total data lines: 4853900\n",
      "Processed: p075796-2198-07-25-22-55.csv, Total data lines: 245400\n",
      "Processed: p075796-2198-07-25-23-40.csv, Total data lines: 16853100\n",
      "Processed: p077729-2120-08-31-01-03.csv, Total data lines: 5517100\n",
      "Processed: p079998-2101-10-21-21-31.csv, Total data lines: 7290600\n",
      "Processed: p081349-2120-02-11-06-35.csv, Total data lines: 1806500\n",
      "Processed: p085866-2178-03-20-17-11.csv, Total data lines: 8504100\n",
      "Processed: p087275-2108-08-29-12-53.csv, Total data lines: 4404400\n",
      "Processed: p087675-2104-12-04-20-08.csv, Total data lines: 1580400\n",
      "Processed: p087675-2104-12-05-03-53.csv, Total data lines: 13415900\n",
      "Processed: p089565-2174-05-12-00-07.csv, Total data lines: 12369400\n",
      "Processed: p092289-2183-03-17-23-12.csv, Total data lines: 9216300\n",
      "Processed: p092846-2129-12-21-13-12.csv, Total data lines: 4425800\n",
      "Processed: p094847-2112-02-12-19-56.csv, Total data lines: 7344900\n",
      "Processed: p097547-2125-10-21-23-43.csv, Total data lines: 6209400\n"
     ]
    }
   ],
   "source": [
    "ppg_folder = 'E:/afib_detection/ppg_signal'\n",
    "output_folder = 'E:/afib_detection/duration_total'\n",
    "\n",
    "os.makedirs(output_folder, exist_ok=True)\n",
    "\n",
    "for file_name in os.listdir(ppg_folder):\n",
    "    if file_name.endswith('.csv'):  \n",
    "        file_path = os.path.join(ppg_folder, file_name)\n",
    "\n",
    "        df = pd.read_csv(file_path, header=None, skip_blank_lines=True)\n",
    "\n",
    "        num_lines = df.dropna().shape[0]\n",
    "\n",
    "        output_file_name = file_name.replace('.csv', '_total_duration.csv')\n",
    "        output_path = os.path.join(output_folder, output_file_name)\n",
    "\n",
    "        pd.DataFrame([num_lines]).to_csv(output_path, index=False, header=False)\n",
    "\n",
    "        print(f'Processed: {file_name}, Total data lines: {num_lines}')"
   ]
  }
 ],
 "metadata": {
  "kernelspec": {
   "display_name": "Python 3",
   "language": "python",
   "name": "python3"
  },
  "language_info": {
   "codemirror_mode": {
    "name": "ipython",
    "version": 3
   },
   "file_extension": ".py",
   "mimetype": "text/x-python",
   "name": "python",
   "nbconvert_exporter": "python",
   "pygments_lexer": "ipython3",
   "version": "3.12.2"
  }
 },
 "nbformat": 4,
 "nbformat_minor": 2
}
